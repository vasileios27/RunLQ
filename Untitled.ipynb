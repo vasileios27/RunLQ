{
 "cells": [
  {
   "cell_type": "code",
   "execution_count": 1,
   "id": "ae917bb6-362c-47ff-8368-4ebd1b88f1d3",
   "metadata": {},
   "outputs": [],
   "source": [
    "import numpy as np\n",
    "import os\n",
    "from sys import argv\n",
    "import dill\n",
    "import matplotlib.pyplot as plt"
   ]
  },
  {
   "cell_type": "code",
   "execution_count": 2,
   "id": "26f75eb6-bd31-4f34-8462-5fb053c6491d",
   "metadata": {},
   "outputs": [],
   "source": [
    "from RunLQ import gaugeCouplingsTreeLeve,solBetafunc,DRalgoModel"
   ]
  },
  {
   "cell_type": "code",
   "execution_count": 3,
   "id": "b8cbf378-77a5-415c-a1ae-bb7ffdcf9d09",
   "metadata": {},
   "outputs": [
    {
     "ename": "AttributeError",
     "evalue": "'gaugeCouplingsTreeLeve' object has no attribute 'TnTrans'",
     "output_type": "error",
     "traceback": [
      "\u001b[0;31m---------------------------------------------------------------------------\u001b[0m",
      "\u001b[0;31mAttributeError\u001b[0m                            Traceback (most recent call last)",
      "\u001b[0;32m<ipython-input-3-d4cd8b38ed73>\u001b[0m in \u001b[0;36m<module>\u001b[0;34m\u001b[0m\n\u001b[1;32m      3\u001b[0m \u001b[0;32mfor\u001b[0m \u001b[0mpt\u001b[0m \u001b[0;32min\u001b[0m \u001b[0mrange\u001b[0m\u001b[0;34m(\u001b[0m\u001b[0;36m1\u001b[0m\u001b[0;34m,\u001b[0m\u001b[0mlen\u001b[0m\u001b[0;34m(\u001b[0m\u001b[0mFileList\u001b[0m\u001b[0;34m)\u001b[0m\u001b[0;34m)\u001b[0m\u001b[0;34m:\u001b[0m\u001b[0;34m\u001b[0m\u001b[0;34m\u001b[0m\u001b[0m\n\u001b[1;32m      4\u001b[0m     \u001b[0mLQpt\u001b[0m\u001b[0;34m=\u001b[0m \u001b[0mdill\u001b[0m\u001b[0;34m.\u001b[0m\u001b[0mload\u001b[0m\u001b[0;34m(\u001b[0m\u001b[0mopen\u001b[0m\u001b[0;34m(\u001b[0m\u001b[0mos\u001b[0m\u001b[0;34m.\u001b[0m\u001b[0mpath\u001b[0m\u001b[0;34m.\u001b[0m\u001b[0mjoin\u001b[0m\u001b[0;34m(\u001b[0m\u001b[0mos\u001b[0m\u001b[0;34m.\u001b[0m\u001b[0mgetcwd\u001b[0m\u001b[0;34m(\u001b[0m\u001b[0;34m)\u001b[0m\u001b[0;34m,\u001b[0m\u001b[0;34m'LQbatch_2'\u001b[0m\u001b[0;34m,\u001b[0m\u001b[0mFileList\u001b[0m\u001b[0;34m[\u001b[0m\u001b[0mpt\u001b[0m\u001b[0;34m]\u001b[0m\u001b[0;34m)\u001b[0m\u001b[0;34m,\u001b[0m\u001b[0;34m\"rb\"\u001b[0m\u001b[0;34m)\u001b[0m\u001b[0;34m)\u001b[0m\u001b[0;34m\u001b[0m\u001b[0;34m\u001b[0m\u001b[0m\n\u001b[0;32m----> 5\u001b[0;31m     \u001b[0;32mfor\u001b[0m \u001b[0mi\u001b[0m \u001b[0;32min\u001b[0m \u001b[0mrange\u001b[0m\u001b[0;34m(\u001b[0m\u001b[0mlen\u001b[0m\u001b[0;34m(\u001b[0m\u001b[0mLQpt\u001b[0m\u001b[0;34m.\u001b[0m\u001b[0mTnTrans\u001b[0m\u001b[0;34m)\u001b[0m\u001b[0;34m)\u001b[0m\u001b[0;34m:\u001b[0m\u001b[0;34m\u001b[0m\u001b[0;34m\u001b[0m\u001b[0m\n\u001b[0m\u001b[1;32m      6\u001b[0m         \u001b[0;32mif\u001b[0m \u001b[0mLQpt\u001b[0m\u001b[0;34m.\u001b[0m\u001b[0mTnTrans\u001b[0m\u001b[0;34m[\u001b[0m\u001b[0mi\u001b[0m\u001b[0;34m]\u001b[0m\u001b[0;34m[\u001b[0m\u001b[0;34m'trantype'\u001b[0m\u001b[0;34m]\u001b[0m \u001b[0;34m==\u001b[0m\u001b[0;36m1\u001b[0m \u001b[0;34m:\u001b[0m\u001b[0;34m\u001b[0m\u001b[0;34m\u001b[0m\u001b[0m\n\u001b[1;32m      7\u001b[0m             \u001b[0;31m#print(\"Yehhhh\\nFOPT at LQpt_{}\".format(pt))\u001b[0m\u001b[0;34m\u001b[0m\u001b[0;34m\u001b[0m\u001b[0;34m\u001b[0m\u001b[0m\n",
      "\u001b[0;31mAttributeError\u001b[0m: 'gaugeCouplingsTreeLeve' object has no attribute 'TnTrans'"
     ]
    }
   ],
   "source": [
    "TnucList = []\n",
    "FileList = os.listdir(os.path.join(os.getcwd(),'LQbatch_2'))\n",
    "for pt in range(1,len(FileList)):\n",
    "    LQpt= dill.load(open(os.path.join(os.getcwd(),'LQbatch_2',FileList[pt]),\"rb\"))\n",
    "    for i in range(len(LQpt.TnTrans)):\n",
    "        if LQpt.TnTrans[i]['trantype'] ==1 : \n",
    "            #print(\"Yehhhh\\nFOPT at LQpt_{}\".format(pt))\n",
    "            TnucList.append(LQpt.TnTrans[i]['Tnuc'])\n",
    "            print(\"Tnuc:{}, pt file LQpt_{}\".format(LQpt.TnTrans[i]['Tnuc'],pt))"
   ]
  },
  {
   "cell_type": "code",
   "execution_count": 11,
   "id": "d020aad9-fec0-4369-876d-9b25bcc88b22",
   "metadata": {},
   "outputs": [
    {
     "data": {
      "text/plain": [
       "['solbLQ_2.pt',\n",
       " 'CTLQ_2.pt',\n",
       " 'coupLQ_2.pt',\n",
       " 'CTLQ_1.pt',\n",
       " 'coupLQ_1.pt',\n",
       " 'solbLQ_1.pt']"
      ]
     },
     "execution_count": 11,
     "metadata": {},
     "output_type": "execute_result"
    }
   ],
   "source": [
    "os.listdir(os.path.join(os.getcwd(),'LQbatch_1'))"
   ]
  },
  {
   "cell_type": "code",
   "execution_count": 6,
   "id": "2be9cc4b-60fd-4b31-9303-5cfd032c40ee",
   "metadata": {},
   "outputs": [
    {
     "data": {
      "text/plain": [
       "[{'Tnuc': 432.9236203393963,\n",
       "  'low_vev': array([ 8.02108491e-07,  1.82759011e-09, -4.71033661e-08]),\n",
       "  'high_vev': array([ 8.02108491e-07,  1.82759011e-09, -4.71033661e-08]),\n",
       "  'low_phase': 0,\n",
       "  'high_phase': 1,\n",
       "  'action': 0.0,\n",
       "  'instanton': None,\n",
       "  'trantype': 2,\n",
       "  'crit_trans': {'Tcrit': 432.9236203393963,\n",
       "   'low_vev': array([ 8.02108491e-07,  1.82759011e-09, -4.71033661e-08]),\n",
       "   'high_vev': array([ 8.02108491e-07,  1.82759011e-09, -4.71033661e-08]),\n",
       "   'low_phase': 0,\n",
       "   'high_phase': 1,\n",
       "   'action': 0.0,\n",
       "   'instanton': None,\n",
       "   'trantype': 2,\n",
       "   'Delta_rho': 0.0},\n",
       "  'Delta_rho': 0.0,\n",
       "  'Delta_p': 0.0}]"
      ]
     },
     "execution_count": 6,
     "metadata": {},
     "output_type": "execute_result"
    }
   ],
   "source": [
    "LQpt= dill.load(open(os.path.join(os.getcwd(),'LQbatch_1','CTLQ_2.pt'),\"rb\"))\n",
    "LQpt.TnTrans"
   ]
  },
  {
   "cell_type": "code",
   "execution_count": 4,
   "id": "3b99b36a-a302-4627-bfba-587adc3c9924",
   "metadata": {},
   "outputs": [
    {
     "name": "stdout",
     "output_type": "stream",
     "text": [
      "LQbatch_4\n",
      "LQpt.TnTrans[i]['trantype']= 2\n",
      "LQpt.TnTrans[i]['trantype']= 2\n",
      "LQbatch_3\n",
      "LQpt.TnTrans[i]['trantype']= 2\n",
      "LQpt.TnTrans[i]['trantype']= 2\n",
      "LQbatch_2\n",
      "LQpt.TnTrans[i]['trantype']= 2\n",
      "LQpt.TnTrans[i]['trantype']= 2\n",
      "LQbatch_5\n",
      "LQpt.TnTrans[i]['trantype']= 2\n",
      "LQpt.TnTrans[i]['trantype']= 2\n",
      "LQbatch_17\n",
      "LQbatch_10\n",
      "LQpt.TnTrans[i]['trantype']= 2\n",
      "LQpt.TnTrans[i]['trantype']= 2\n",
      "LQpt.TnTrans[i]['trantype']= 2\n",
      "LQpt.TnTrans[i]['trantype']= 2\n",
      "LQpt.TnTrans[i]['trantype']= 2\n",
      "LQpt.TnTrans[i]['trantype']= 2\n",
      "LQpt.TnTrans[i]['trantype']= 2\n",
      "LQpt.TnTrans[i]['trantype']= 2\n",
      "LQpt.TnTrans[i]['trantype']= 2\n",
      "LQpt.TnTrans[i]['trantype']= 2\n",
      "LQpt.TnTrans[i]['trantype']= 2\n",
      "LQpt.TnTrans[i]['trantype']= 2\n",
      "LQpt.TnTrans[i]['trantype']= 2\n",
      "LQpt.TnTrans[i]['trantype']= 2\n",
      "LQbatch_11\n",
      "LQpt.TnTrans[i]['trantype']= 2\n",
      "LQpt.TnTrans[i]['trantype']= 2\n",
      "LQpt.TnTrans[i]['trantype']= 2\n",
      "LQpt.TnTrans[i]['trantype']= 2\n",
      "LQpt.TnTrans[i]['trantype']= 2\n",
      "LQpt.TnTrans[i]['trantype']= 2\n",
      "LQpt.TnTrans[i]['trantype']= 2\n",
      "LQpt.TnTrans[i]['trantype']= 2\n",
      "LQpt.TnTrans[i]['trantype']= 2\n",
      "LQpt.TnTrans[i]['trantype']= 2\n",
      "LQpt.TnTrans[i]['trantype']= 2\n",
      "LQpt.TnTrans[i]['trantype']= 2\n",
      "LQbatch_16\n",
      "LQbatch_9\n",
      "LQpt.TnTrans[i]['trantype']= 2\n",
      "LQpt.TnTrans[i]['trantype']= 2\n",
      "LQpt.TnTrans[i]['trantype']= 2\n",
      "LQpt.TnTrans[i]['trantype']= 2\n",
      "LQpt.TnTrans[i]['trantype']= 2\n",
      "LQpt.TnTrans[i]['trantype']= 2\n",
      "LQpt.TnTrans[i]['trantype']= 2\n",
      "LQpt.TnTrans[i]['trantype']= 2\n",
      "LQpt.TnTrans[i]['trantype']= 2\n",
      "LQpt.TnTrans[i]['trantype']= 2\n",
      "LQpt.TnTrans[i]['trantype']= 2\n",
      "LQpt.TnTrans[i]['trantype']= 2\n",
      "LQpt.TnTrans[i]['trantype']= 2\n",
      "LQpt.TnTrans[i]['trantype']= 2\n",
      "LQpt.TnTrans[i]['trantype']= 2\n",
      "LQbatch_7\n",
      "LQpt.TnTrans[i]['trantype']= 2\n",
      "LQpt.TnTrans[i]['trantype']= 2\n",
      "LQpt.TnTrans[i]['trantype']= 2\n",
      "LQpt.TnTrans[i]['trantype']= 2\n",
      "LQpt.TnTrans[i]['trantype']= 2\n",
      "LQpt.TnTrans[i]['trantype']= 2\n",
      "LQpt.TnTrans[i]['trantype']= 2\n",
      "LQpt.TnTrans[i]['trantype']= 2\n",
      "LQpt.TnTrans[i]['trantype']= 2\n",
      "LQpt.TnTrans[i]['trantype']= 2\n",
      "LQpt.TnTrans[i]['trantype']= 2\n",
      "LQpt.TnTrans[i]['trantype']= 2\n",
      "LQbatch_6\n",
      "LQpt.TnTrans[i]['trantype']= 2\n",
      "LQpt.TnTrans[i]['trantype']= 2\n",
      "LQbatch_1\n",
      "LQpt.TnTrans[i]['trantype']= 2\n",
      "LQpt.TnTrans[i]['trantype']= 2\n",
      "LQbatch_8\n",
      "LQpt.TnTrans[i]['trantype']= 2\n",
      "LQpt.TnTrans[i]['trantype']= 2\n",
      "LQpt.TnTrans[i]['trantype']= 2\n",
      "LQpt.TnTrans[i]['trantype']= 2\n",
      "LQpt.TnTrans[i]['trantype']= 2\n",
      "LQpt.TnTrans[i]['trantype']= 2\n",
      "LQpt.TnTrans[i]['trantype']= 2\n",
      "LQpt.TnTrans[i]['trantype']= 2\n",
      "LQpt.TnTrans[i]['trantype']= 2\n",
      "LQpt.TnTrans[i]['trantype']= 2\n",
      "LQpt.TnTrans[i]['trantype']= 2\n",
      "LQpt.TnTrans[i]['trantype']= 2\n",
      "LQpt.TnTrans[i]['trantype']= 2\n",
      "LQbatch_13\n",
      "LQpt.TnTrans[i]['trantype']= 2\n",
      "LQpt.TnTrans[i]['trantype']= 2\n",
      "LQpt.TnTrans[i]['trantype']= 2\n",
      "LQpt.TnTrans[i]['trantype']= 2\n",
      "LQpt.TnTrans[i]['trantype']= 2\n",
      "LQpt.TnTrans[i]['trantype']= 2\n",
      "LQpt.TnTrans[i]['trantype']= 2\n",
      "LQpt.TnTrans[i]['trantype']= 2\n",
      "LQpt.TnTrans[i]['trantype']= 2\n",
      "LQpt.TnTrans[i]['trantype']= 2\n",
      "LQpt.TnTrans[i]['trantype']= 2\n",
      "LQpt.TnTrans[i]['trantype']= 2\n",
      "LQpt.TnTrans[i]['trantype']= 2\n",
      "LQpt.TnTrans[i]['trantype']= 2\n",
      "LQpt.TnTrans[i]['trantype']= 2\n",
      "LQbatch_14\n",
      "LQpt.TnTrans[i]['trantype']= 2\n",
      "LQpt.TnTrans[i]['trantype']= 2\n",
      "LQpt.TnTrans[i]['trantype']= 2\n",
      "LQpt.TnTrans[i]['trantype']= 2\n",
      "LQpt.TnTrans[i]['trantype']= 2\n",
      "LQpt.TnTrans[i]['trantype']= 2\n",
      "LQpt.TnTrans[i]['trantype']= 2\n",
      "LQpt.TnTrans[i]['trantype']= 2\n",
      "LQpt.TnTrans[i]['trantype']= 2\n",
      "LQpt.TnTrans[i]['trantype']= 2\n",
      "LQpt.TnTrans[i]['trantype']= 2\n",
      "LQpt.TnTrans[i]['trantype']= 2\n",
      "LQpt.TnTrans[i]['trantype']= 2\n",
      "LQpt.TnTrans[i]['trantype']= 2\n",
      "LQpt.TnTrans[i]['trantype']= 2\n",
      "LQpt.TnTrans[i]['trantype']= 2\n",
      "LQpt.TnTrans[i]['trantype']= 2\n",
      "LQpt.TnTrans[i]['trantype']= 2\n",
      "LQbatch_15\n",
      "LQpt.TnTrans[i]['trantype']= 2\n",
      "LQpt.TnTrans[i]['trantype']= 2\n",
      "LQpt.TnTrans[i]['trantype']= 2\n",
      "LQpt.TnTrans[i]['trantype']= 2\n",
      "LQpt.TnTrans[i]['trantype']= 2\n",
      "LQpt.TnTrans[i]['trantype']= 2\n",
      "LQpt.TnTrans[i]['trantype']= 2\n",
      "LQpt.TnTrans[i]['trantype']= 2\n",
      "LQpt.TnTrans[i]['trantype']= 2\n",
      "LQpt.TnTrans[i]['trantype']= 2\n",
      "LQpt.TnTrans[i]['trantype']= 2\n",
      "LQpt.TnTrans[i]['trantype']= 2\n",
      "LQpt.TnTrans[i]['trantype']= 2\n",
      "LQpt.TnTrans[i]['trantype']= 2\n",
      "LQpt.TnTrans[i]['trantype']= 2\n",
      "LQbatch_12\n",
      "LQpt.TnTrans[i]['trantype']= 2\n",
      "LQpt.TnTrans[i]['trantype']= 2\n",
      "LQpt.TnTrans[i]['trantype']= 2\n",
      "LQpt.TnTrans[i]['trantype']= 2\n",
      "LQpt.TnTrans[i]['trantype']= 2\n",
      "LQpt.TnTrans[i]['trantype']= 2\n",
      "LQpt.TnTrans[i]['trantype']= 2\n",
      "LQpt.TnTrans[i]['trantype']= 2\n",
      "LQpt.TnTrans[i]['trantype']= 2\n",
      "LQpt.TnTrans[i]['trantype']= 2\n",
      "LQpt.TnTrans[i]['trantype']= 2\n",
      "LQpt.TnTrans[i]['trantype']= 2\n"
     ]
    }
   ],
   "source": [
    "for wp in os.listdir(os.path.join(os.getcwd())):\n",
    "    if wp.startswith(\"LQbatch\"):\n",
    "        print(\"{}\".format(wp))\n",
    "        for file in os.listdir(os.path.join(os.getcwd(),wp)):\n",
    "            if file.startswith(\"CT\"):\n",
    "                LQpt= dill.load(open(os.path.join(os.getcwd(),wp,file),\"rb\"))\n",
    "                for i in range(len(LQpt.TnTrans)):\n",
    "                    print(\"LQpt.TnTrans[i]['trantype']=\",LQpt.TnTrans[i]['trantype'])\n"
   ]
  },
  {
   "cell_type": "code",
   "execution_count": null,
   "id": "a1692792-041a-47fa-b7a5-8ea96a61ec5c",
   "metadata": {},
   "outputs": [],
   "source": []
  },
  {
   "cell_type": "code",
   "execution_count": null,
   "id": "562463bc-84cf-4e0a-a719-9423a04e250a",
   "metadata": {},
   "outputs": [],
   "source": []
  },
  {
   "cell_type": "markdown",
   "id": "3b53296e-49ba-4ead-8324-9dc65c9dff47",
   "metadata": {},
   "source": [
    "## Testing marcos values"
   ]
  },
  {
   "cell_type": "code",
   "execution_count": 3,
   "id": "d9059b69-fbc9-43b6-a866-7b0344e95e4f",
   "metadata": {},
   "outputs": [],
   "source": [
    "import pandas as pd"
   ]
  },
  {
   "cell_type": "code",
   "execution_count": 4,
   "id": "44c7589f-14a4-4eae-8ac8-28a39a6bb7a6",
   "metadata": {},
   "outputs": [
    {
     "data": {
      "text/html": [
       "<div>\n",
       "<style scoped>\n",
       "    .dataframe tbody tr th:only-of-type {\n",
       "        vertical-align: middle;\n",
       "    }\n",
       "\n",
       "    .dataframe tbody tr th {\n",
       "        vertical-align: top;\n",
       "    }\n",
       "\n",
       "    .dataframe thead th {\n",
       "        text-align: right;\n",
       "    }\n",
       "</style>\n",
       "<table border=\"1\" class=\"dataframe\">\n",
       "  <thead>\n",
       "    <tr style=\"text-align: right;\">\n",
       "      <th></th>\n",
       "      <th>idRun</th>\n",
       "      <th>idTrans</th>\n",
       "      <th>trantype</th>\n",
       "      <th>bfbSMViol</th>\n",
       "      <th>bfbRefViol</th>\n",
       "      <th>Tnuc</th>\n",
       "      <th>vn</th>\n",
       "      <th>dV</th>\n",
       "      <th>dVdT</th>\n",
       "      <th>vhi</th>\n",
       "      <th>...</th>\n",
       "      <th>Ompeak</th>\n",
       "      <th>npoints_list</th>\n",
       "      <th>Tn_list</th>\n",
       "      <th>Tp_list</th>\n",
       "      <th>alpha_list</th>\n",
       "      <th>betaH_list</th>\n",
       "      <th>fpeak_list</th>\n",
       "      <th>Ompeak_list</th>\n",
       "      <th>vJ_list</th>\n",
       "      <th>SPolyCoeff_list</th>\n",
       "    </tr>\n",
       "  </thead>\n",
       "  <tbody>\n",
       "    <tr>\n",
       "      <th>0</th>\n",
       "      <td>2</td>\n",
       "      <td>1</td>\n",
       "      <td>1</td>\n",
       "      <td>[0 3 5 6]</td>\n",
       "      <td>NaN</td>\n",
       "      <td>244.352632</td>\n",
       "      <td>795.278241</td>\n",
       "      <td>2071592.817</td>\n",
       "      <td>-251702064.4</td>\n",
       "      <td>764.085349</td>\n",
       "      <td>...</td>\n",
       "      <td>2.270000e-22</td>\n",
       "      <td>[60, 75, 100]</td>\n",
       "      <td>[244.35279124616392, 244.35279396916363, 244.3...</td>\n",
       "      <td>[244.35011710841587, 244.35011536973212, 244.3...</td>\n",
       "      <td>[0.11243355471600448, 0.11243356057131765, 0.1...</td>\n",
       "      <td>[3390717.202312934, 3394814.447971462, 3391312...</td>\n",
       "      <td>[79.42170144657469, 79.51767179252876, 79.4356...</td>\n",
       "      <td>[2.266980217272089e-22, 2.2615117335835023e-22...</td>\n",
       "      <td>[0.7850519984797036, 0.785052002275123, 0.7850...</td>\n",
       "      <td>[array([ 1.96898132e+10, -1.40509174e+03, -1.9...</td>\n",
       "    </tr>\n",
       "  </tbody>\n",
       "</table>\n",
       "<p>1 rows × 57 columns</p>\n",
       "</div>"
      ],
      "text/plain": [
       "   idRun  idTrans  trantype  bfbSMViol bfbRefViol        Tnuc          vn  \\\n",
       "0      2        1         1  [0 3 5 6]        NaN  244.352632  795.278241   \n",
       "\n",
       "            dV         dVdT         vhi  ...        Ompeak   npoints_list  \\\n",
       "0  2071592.817 -251702064.4  764.085349  ...  2.270000e-22  [60, 75, 100]   \n",
       "\n",
       "                                             Tn_list  \\\n",
       "0  [244.35279124616392, 244.35279396916363, 244.3...   \n",
       "\n",
       "                                             Tp_list  \\\n",
       "0  [244.35011710841587, 244.35011536973212, 244.3...   \n",
       "\n",
       "                                          alpha_list  \\\n",
       "0  [0.11243355471600448, 0.11243356057131765, 0.1...   \n",
       "\n",
       "                                          betaH_list  \\\n",
       "0  [3390717.202312934, 3394814.447971462, 3391312...   \n",
       "\n",
       "                                          fpeak_list  \\\n",
       "0  [79.42170144657469, 79.51767179252876, 79.4356...   \n",
       "\n",
       "                                         Ompeak_list  \\\n",
       "0  [2.266980217272089e-22, 2.2615117335835023e-22...   \n",
       "\n",
       "                                             vJ_list  \\\n",
       "0  [0.7850519984797036, 0.785052002275123, 0.7850...   \n",
       "\n",
       "                                     SPolyCoeff_list  \n",
       "0  [array([ 1.96898132e+10, -1.40509174e+03, -1.9...  \n",
       "\n",
       "[1 rows x 57 columns]"
      ]
     },
     "execution_count": 4,
     "metadata": {},
     "output_type": "execute_result"
    }
   ],
   "source": [
    "data = pd.read_csv(\"scan_02_farLQ_or0_mu7e+02-6.28e+03.csv\")\n",
    "data.head(1)"
   ]
  },
  {
   "cell_type": "code",
   "execution_count": 5,
   "id": "f394f20d-8f99-4ed6-9da8-a750542bf6d0",
   "metadata": {},
   "outputs": [],
   "source": [
    "μs = data[\"mus\"].loc[0]\n",
    "μr = data[\"mur\"].loc[0]\n",
    "λr = data[\"lamr\"].loc[0]\n",
    "λs = data[\"lams\"].loc[0]\n",
    "ghs = data[\"ghs\"].loc[0]\n",
    "ghr = data[\"ghr\"].loc[0]\n",
    "grs = data[\"grs\"].loc[0]\n",
    "ghr2 = data[\"ghr2\"].loc[0]\n",
    "a1 = data[\"a1\"].loc[0]"
   ]
  },
  {
   "cell_type": "code",
   "execution_count": 6,
   "id": "33a19042-e106-4b0a-92f5-f914fb380bf6",
   "metadata": {},
   "outputs": [],
   "source": [
    "MmR1 = data[\"mR1\"].loc[0]\n",
    "MmR2 = data[\"mR2\"].loc[0]\n",
    "MmS = data[\"mS\"].loc[0]"
   ]
  },
  {
   "cell_type": "code",
   "execution_count": 7,
   "id": "02332bcc-123a-4ca1-a305-fa803a8d6459",
   "metadata": {},
   "outputs": [],
   "source": [
    "μRef = data[\"muRef\"].loc[0]\n",
    "μMax = data[\"muMax\"].loc[0]"
   ]
  },
  {
   "cell_type": "code",
   "execution_count": 8,
   "id": "974e21a1-2511-44fe-8256-ae87f5073e7f",
   "metadata": {},
   "outputs": [],
   "source": [
    "coup = gaugeCouplingsTreeLeve()"
   ]
  },
  {
   "cell_type": "code",
   "execution_count": 11,
   "id": "1f122414-095a-454c-98e2-2640fe894431",
   "metadata": {},
   "outputs": [],
   "source": [
    "coup.init(μr,μs,λr,λs,ghs,ghr,grs,ghr2,a1,MmR1**2,MmR2**2, initialVals = True)"
   ]
  },
  {
   "cell_type": "code",
   "execution_count": 12,
   "id": "26feba11-e324-4ee2-947c-b5268fc0b42d",
   "metadata": {},
   "outputs": [],
   "source": [
    "coup.gaugeVsLQMass()\n",
    "coup.InitiationValuesSM()\n",
    "#coup.BFBm()"
   ]
  },
  {
   "cell_type": "code",
   "execution_count": 13,
   "id": "c337ae73-e15a-41da-90c9-9bdcbf2d3049",
   "metadata": {},
   "outputs": [
    {
     "data": {
      "text/plain": [
       "array([1121.526922  , 2300.030566  , 2282.87036416])"
      ]
     },
     "execution_count": 13,
     "metadata": {},
     "output_type": "execute_result"
    }
   ],
   "source": [
    "np.sqrt([coup.mSsq,coup.mR1sq,coup.mR2sq])"
   ]
  },
  {
   "cell_type": "code",
   "execution_count": 15,
   "id": "0a503ad3-7dfc-4c3c-8167-b92e0482fbe0",
   "metadata": {},
   "outputs": [
    {
     "data": {
      "text/plain": [
       "(2300.030566, 1121.526922, 2366.141784)"
      ]
     },
     "execution_count": 15,
     "metadata": {},
     "output_type": "execute_result"
    }
   ],
   "source": [
    "MmR1,MmR2,MmS"
   ]
  },
  {
   "cell_type": "code",
   "execution_count": 17,
   "id": "c5abd709-2ad7-4dd4-87ce-e8faabb769c2",
   "metadata": {},
   "outputs": [
    {
     "data": {
      "text/plain": [
       "(1460607.3811673033, 5192062.246134289)"
      ]
     },
     "execution_count": 17,
     "metadata": {},
     "output_type": "execute_result"
    }
   ],
   "source": [
    "coup.μs,coup.μr"
   ]
  },
  {
   "cell_type": "code",
   "execution_count": 18,
   "id": "64826a04-4cff-44a2-8f96-dcbbe40c40d5",
   "metadata": {},
   "outputs": [
    {
     "data": {
      "text/plain": [
       "(1441858.489, 5270705.75)"
      ]
     },
     "execution_count": 18,
     "metadata": {},
     "output_type": "execute_result"
    }
   ],
   "source": [
    "μs,μr"
   ]
  },
  {
   "cell_type": "code",
   "execution_count": 20,
   "id": "10599dcb-b233-4cf9-82e2-a14cec31aec7",
   "metadata": {},
   "outputs": [
    {
     "data": {
      "text/plain": [
       "1835277.345770038j"
      ]
     },
     "execution_count": 20,
     "metadata": {},
     "output_type": "execute_result"
    }
   ],
   "source": [
    " np.sqrt((coup.mR1sq - coup.mSsq)**2 - 2*a1**2*246**2 + 0.j)"
   ]
  },
  {
   "cell_type": "code",
   "execution_count": null,
   "id": "2db29755-f187-432c-a0c1-9a0648f241ac",
   "metadata": {},
   "outputs": [],
   "source": [
    "            self.BFBm()\n",
    "            if sum(self.mass)==3:\n",
    "                self.BFB1()\n",
    "                if sum(self.cond[0:3]) == 3:\n",
    "                    self.BFB2()\n",
    "                    self.BFB3()\n",
    "                    if sum(self.cond) == 7 and sum(self.Unitcond) == 7: self.UnitPass = True\n",
    "\n"
   ]
  },
  {
   "cell_type": "code",
   "execution_count": 33,
   "id": "4f4216d9-fdd3-4634-9d39-36cb00bde2fa",
   "metadata": {},
   "outputs": [
    {
     "name": "stdout",
     "output_type": "stream",
     "text": [
      "['λr' 'λs' 'ghs' 'ghr' 'ghr2' 'grs' 'λh']=[ 1.25092553  2.54046906  1.10581003  0.64230463 -5.20856762  3.01764189\n",
      "  0.13947   ]\n",
      "['μs' 'μr' 'μh']=[        nan         nan -8440.16652]\n",
      "['Yt' 'Yb' 'Yτ']=[0.96729908 0.01632094 0.00993721]\n",
      "['gs' 'gw' 'gY']=[1.2104   0.651    0.357254]\n",
      "['a1']=5444.122817\n"
     ]
    }
   ],
   "source": [
    "QuartNam,QuartVal,masstNam,masstVal,YukawNam,YukawVal,GaugCoupNam,GaugCoupVal,\\\n",
    "CubicNam,CubivVal = coup.returnFunction()\n",
    "name = [QuartNam,masstNam,YukawNam,GaugCoupNam,CubicNam]\n",
    "for i,c in enumerate([QuartVal,masstVal,YukawVal,GaugCoupVal,CubivVal]):\n",
    "    print(\"{}={}\".format(name[i],c))"
   ]
  },
  {
   "cell_type": "code",
   "execution_count": 31,
   "id": "50680c55-861d-44d1-8192-46e1f078c1ba",
   "metadata": {},
   "outputs": [
    {
     "data": {
      "text/plain": [
       "(array(['λr', 'λs', 'ghs', 'ghr', 'ghr2', 'grs', 'λh'], dtype='<U4'),\n",
       " array([ 1.25092553,  2.54046906,  1.10581003,  0.64230463, -5.20856762,\n",
       "         3.01764189,  0.13947   ]),\n",
       " array(['μs', 'μr', 'μh'], dtype='<U2'),\n",
       " array([        nan,         nan, -8440.16652]),\n",
       " array(['Yt', 'Yb', 'Yτ'], dtype='<U2'),\n",
       " array([0.96729908, 0.01632094, 0.00993721]),\n",
       " array(['gs', 'gw', 'gY'], dtype='<U2'),\n",
       " array([1.2104  , 0.651   , 0.357254]),\n",
       " array(['a1'], dtype='<U2'),\n",
       " 5444.122817)"
      ]
     },
     "execution_count": 31,
     "metadata": {},
     "output_type": "execute_result"
    }
   ],
   "source": [
    "QuartNam,QuartVal,masstNam,masstVal,YukawNam,YukawVal,GaugCoupNam,GaugCoupVal,\\\n",
    "CubicNam,CubivVal"
   ]
  },
  {
   "cell_type": "code",
   "execution_count": null,
   "id": "40c595ab-4b74-42da-8f26-42146504e725",
   "metadata": {},
   "outputs": [],
   "source": []
  }
 ],
 "metadata": {
  "kernelspec": {
   "display_name": "Python 3",
   "language": "python",
   "name": "python3"
  },
  "language_info": {
   "codemirror_mode": {
    "name": "ipython",
    "version": 3
   },
   "file_extension": ".py",
   "mimetype": "text/x-python",
   "name": "python",
   "nbconvert_exporter": "python",
   "pygments_lexer": "ipython3",
   "version": "3.7.15"
  }
 },
 "nbformat": 4,
 "nbformat_minor": 5
}
